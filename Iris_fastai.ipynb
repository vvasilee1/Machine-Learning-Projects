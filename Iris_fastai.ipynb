{
  "nbformat": 4,
  "nbformat_minor": 0,
  "metadata": {
    "colab": {
      "name": "Iris_fastai.ipynb",
      "provenance": [],
      "authorship_tag": "ABX9TyOIbG+Ma9whB4M1pSDNrvI5",
      "include_colab_link": true
    },
    "kernelspec": {
      "name": "python3",
      "display_name": "Python 3"
    }
  },
  "cells": [
    {
      "cell_type": "markdown",
      "metadata": {
        "id": "view-in-github",
        "colab_type": "text"
      },
      "source": [
        "<a href=\"https://colab.research.google.com/github/vvasilee1/Machine-Learning-Projects/blob/master/Iris_fastai.ipynb\" target=\"_parent\"><img src=\"https://colab.research.google.com/assets/colab-badge.svg\" alt=\"Open In Colab\"/></a>"
      ]
    },
    {
      "cell_type": "code",
      "metadata": {
        "colab": {
          "base_uri": "https://localhost:8080/"
        },
        "id": "kkH7FvLKijR1",
        "outputId": "438256ac-7fea-4f23-9877-e92e7d86d567"
      },
      "source": [
        "! [ -e /content ] && pip install -Uqq fastai"
      ],
      "execution_count": 1,
      "outputs": [
        {
          "output_type": "stream",
          "text": [
            "\u001b[K     |████████████████████████████████| 194kB 6.7MB/s \n",
            "\u001b[K     |████████████████████████████████| 51kB 5.5MB/s \n",
            "\u001b[?25h"
          ],
          "name": "stdout"
        }
      ]
    },
    {
      "cell_type": "code",
      "metadata": {
        "id": "nZtU9ASIiqIX"
      },
      "source": [
        "from sklearn.model_selection import StratifiedShuffleSplit\n",
        "from fastai.tabular.all import *"
      ],
      "execution_count": 2,
      "outputs": []
    },
    {
      "cell_type": "code",
      "metadata": {
        "id": "i8rTqBzTkSEm"
      },
      "source": [
        "url = \"https://raw.githubusercontent.com/jbrownlee/Datasets/master/iris.csv\"\n",
        "names = ['sepal-length', 'sepal-width', 'petal-length', 'petal-width', 'class']\n",
        "iris = pd.read_csv(url,names=names)"
      ],
      "execution_count": 3,
      "outputs": []
    },
    {
      "cell_type": "code",
      "metadata": {
        "id": "Zcae1j3ikg8x"
      },
      "source": [
        "labels = ['Iris-setosa']*50 + ['Iris-virginica'] *50 + ['Iris-versicolor']*50\n",
        "splits = TrainTestSplitter(test_size=0.2,stratify=labels)(150)"
      ],
      "execution_count": 9,
      "outputs": []
    },
    {
      "cell_type": "code",
      "metadata": {
        "id": "Yh7PtzfJk_3O"
      },
      "source": [
        "to = TabularPandas(iris, procs=[Categorify, FillMissing,Normalize],\n",
        "                   cont_names = ['sepal-length'\t,'sepal-width',\t'petal-length',\t'petal-width'],\n",
        "                   y_names='class',\n",
        "                   splits=splits)"
      ],
      "execution_count": 10,
      "outputs": []
    },
    {
      "cell_type": "code",
      "metadata": {
        "id": "Bj_Pq0x9l_EZ"
      },
      "source": [
        "dls = to.dataloaders(bs = 20)\n",
        "learn = tabular_learner(dls, metrics=accuracy)"
      ],
      "execution_count": 11,
      "outputs": []
    },
    {
      "cell_type": "code",
      "metadata": {
        "colab": {
          "base_uri": "https://localhost:8080/",
          "height": 195
        },
        "id": "YLqDgr3riJfh",
        "outputId": "19871e40-c2fa-4979-b30e-c67228020bc7"
      },
      "source": [
        "learn.fit_one_cycle(5)"
      ],
      "execution_count": 13,
      "outputs": [
        {
          "output_type": "display_data",
          "data": {
            "text/html": [
              "<table border=\"1\" class=\"dataframe\">\n",
              "  <thead>\n",
              "    <tr style=\"text-align: left;\">\n",
              "      <th>epoch</th>\n",
              "      <th>train_loss</th>\n",
              "      <th>valid_loss</th>\n",
              "      <th>accuracy</th>\n",
              "      <th>time</th>\n",
              "    </tr>\n",
              "  </thead>\n",
              "  <tbody>\n",
              "    <tr>\n",
              "      <td>0</td>\n",
              "      <td>0.529575</td>\n",
              "      <td>0.669945</td>\n",
              "      <td>0.833333</td>\n",
              "      <td>00:00</td>\n",
              "    </tr>\n",
              "    <tr>\n",
              "      <td>1</td>\n",
              "      <td>0.441424</td>\n",
              "      <td>0.451481</td>\n",
              "      <td>0.866667</td>\n",
              "      <td>00:00</td>\n",
              "    </tr>\n",
              "    <tr>\n",
              "      <td>2</td>\n",
              "      <td>0.362291</td>\n",
              "      <td>0.333775</td>\n",
              "      <td>0.900000</td>\n",
              "      <td>00:00</td>\n",
              "    </tr>\n",
              "    <tr>\n",
              "      <td>3</td>\n",
              "      <td>0.311638</td>\n",
              "      <td>0.281028</td>\n",
              "      <td>0.933333</td>\n",
              "      <td>00:00</td>\n",
              "    </tr>\n",
              "    <tr>\n",
              "      <td>4</td>\n",
              "      <td>0.273082</td>\n",
              "      <td>0.264743</td>\n",
              "      <td>0.933333</td>\n",
              "      <td>00:00</td>\n",
              "    </tr>\n",
              "  </tbody>\n",
              "</table>"
            ],
            "text/plain": [
              "<IPython.core.display.HTML object>"
            ]
          },
          "metadata": {
            "tags": []
          }
        }
      ]
    },
    {
      "cell_type": "code",
      "metadata": {
        "id": "9FUFYmGdiYky"
      },
      "source": [
        ""
      ],
      "execution_count": null,
      "outputs": []
    }
  ]
}